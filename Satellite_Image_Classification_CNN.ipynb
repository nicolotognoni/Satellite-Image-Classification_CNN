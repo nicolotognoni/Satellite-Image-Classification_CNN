{
  "nbformat": 4,
  "nbformat_minor": 0,
  "metadata": {
    "colab": {
      "provenance": []
    },
    "kernelspec": {
      "name": "python3",
      "display_name": "Python 3"
    },
    "language_info": {
      "name": "python"
    }
  },
  "cells": [
    {
      "cell_type": "markdown",
      "source": [
        "## **How to run the notebook**"
      ],
      "metadata": {
        "id": "_NfwSScFGhRB"
      }
    },
    {
      "cell_type": "markdown",
      "source": [
        "We pre-run the entire notebook and kept the results of the different models.\n",
        "\n",
        "However, if you want to run it you need to know a few things:\n",
        "- We stored our data on Google Drive so in order to run the code you need to upload the Folder with the images in your Google Drive under the following path: *drive/MyDrive/Colab Notebooks/UCMerced_LandUse*\n",
        "\n",
        "\n",
        "- We divided the code in 'Chapters' and we tried to make every single one indipendent from the rest of the code in order to be able to run them indipendently. In many of them we put a sub-chapter to load the right data to run the model."
      ],
      "metadata": {
        "id": "2_qnZXh1Gjic"
      }
    },
    {
      "cell_type": "markdown",
      "source": [
        "# **Load the Augmented Data with fill_mode = 'constant'**"
      ],
      "metadata": {
        "id": "ieJ5_aIK2A4u"
      }
    },
    {
      "cell_type": "code",
      "source": [
        "from IPython.core.interactiveshell import InteractiveShell\n",
        "InteractiveShell.ast_node_interactivity = \"all\""
      ],
      "metadata": {
        "id": "xn0iUAzs2A4w"
      },
      "execution_count": null,
      "outputs": []
    },
    {
      "cell_type": "code",
      "source": [
        "from google.colab import drive\n",
        "drive.mount('/content/drive')"
      ],
      "metadata": {
        "colab": {
          "base_uri": "https://localhost:8080/"
        },
        "outputId": "126fb04c-ad15-40ba-a35d-db5022e5f05b",
        "id": "F7K7HtMr2A4x"
      },
      "execution_count": null,
      "outputs": [
        {
          "output_type": "stream",
          "name": "stdout",
          "text": [
            "Drive already mounted at /content/drive; to attempt to forcibly remount, call drive.mount(\"/content/drive\", force_remount=True).\n"
          ]
        }
      ]
    },
    {
      "cell_type": "code",
      "source": [
        "import os\n",
        "import tensorflow as tf\n",
        "import numpy as np\n",
        "\n",
        " \n",
        "SEED = 1234\n",
        "tf.random.set_seed(SEED)  \n",
        "\n",
        "# Get current working directory\n",
        "cwd = os.getcwd()"
      ],
      "metadata": {
        "id": "1SEcyhXP2A4x"
      },
      "execution_count": null,
      "outputs": []
    },
    {
      "cell_type": "code",
      "source": [
        "# ImageDataGenerator\n",
        "# ------------------\n",
        "\n",
        "from tensorflow.keras.preprocessing.image import ImageDataGenerator\n",
        "\n",
        "train_data_gen = ImageDataGenerator(rotation_range=10,\n",
        "                                        width_shift_range=10,\n",
        "                                        height_shift_range=10,\n",
        "                                        zoom_range=0.3,\n",
        "                                        horizontal_flip=True,\n",
        "                                        vertical_flip=True,\n",
        "                                        fill_mode='constant',\n",
        "                                        cval=0,\n",
        "                                        rescale=1./255)\n",
        "\n",
        "valid_data_gen = ImageDataGenerator(rescale=1./255)\n",
        "test_data_gen = ImageDataGenerator(rescale=1./255)"
      ],
      "metadata": {
        "id": "tZQ_V6Jy2A4y"
      },
      "execution_count": null,
      "outputs": []
    },
    {
      "cell_type": "code",
      "source": [
        "# Create generators to read images from dataset directory\n",
        "# -------------------------------------------------------\n",
        "dataset_dir = os.path.join(cwd, 'drive/MyDrive/Colab Notebooks/UCMerced_LandUse')\n",
        "\n",
        "# img\n",
        "\n",
        "# Batch size\n",
        "bs = 32\n",
        "\n",
        "# img shape\n",
        "img_h = 256\n",
        "img_w = 256\n",
        "\n",
        "num_classes=21\n",
        "\n",
        "# Training\n",
        "training_dir = os.path.join(dataset_dir, 'training')\n",
        "train_gen = train_data_gen.flow_from_directory(training_dir,\n",
        "                                               batch_size=bs, \n",
        "                                               class_mode='categorical',\n",
        "                                               shuffle=True,\n",
        "                                               seed=SEED)  \n",
        "\n",
        "# Validation\n",
        "validation_dir = os.path.join(dataset_dir, 'validation')\n",
        "valid_gen = valid_data_gen.flow_from_directory(validation_dir,\n",
        "                                               batch_size=bs, \n",
        "                                               class_mode='categorical',\n",
        "                                               shuffle=False,\n",
        "                                               seed=SEED)\n",
        "\n",
        "# Test\n",
        "test_dir = os.path.join(dataset_dir, 'test')\n",
        "test_gen = test_data_gen.flow_from_directory(test_dir,\n",
        "                                             batch_size=bs, \n",
        "                                             class_mode='categorical',\n",
        "                                             shuffle=False,\n",
        "                                             seed=SEED)"
      ],
      "metadata": {
        "colab": {
          "base_uri": "https://localhost:8080/"
        },
        "outputId": "459a52b5-21f2-4b2f-f947-25eaa3ee4a9d",
        "id": "Co17owFQ2A4z"
      },
      "execution_count": null,
      "outputs": [
        {
          "output_type": "stream",
          "name": "stdout",
          "text": [
            "Found 1470 images belonging to 21 classes.\n",
            "Found 315 images belonging to 21 classes.\n",
            "Found 315 images belonging to 21 classes.\n"
          ]
        }
      ]
    },
    {
      "cell_type": "code",
      "source": [
        "# Create Dataset objects\n",
        "# ----------------------\n",
        "\n",
        "# Training\n",
        "train_dataset_augm = tf.data.Dataset.from_generator(lambda: train_gen,\n",
        "                                               output_types=(tf.float32, tf.float32),\n",
        "                                               output_shapes=([None, img_h, img_w, 3], [None, num_classes]))\n",
        "\n",
        "# Repeat\n",
        "train_dataset_augm = train_dataset_augm.repeat()\n",
        "\n",
        "# Validation\n",
        "# ----------\n",
        "valid_dataset = tf.data.Dataset.from_generator(lambda: valid_gen, \n",
        "                                               output_types=(tf.float32, tf.float32),\n",
        "                                               output_shapes=([None, img_h, img_w, 3], [None, num_classes]))\n",
        "\n",
        "# Repeat\n",
        "valid_dataset = valid_dataset.repeat()\n",
        "\n",
        "# Test\n",
        "# ----\n",
        "test_dataset = tf.data.Dataset.from_generator(lambda: test_gen,\n",
        "                                              output_types=(tf.float32, tf.float32),\n",
        "                                              output_shapes=([None, img_h, img_w, 3], [None, num_classes]))\n"
      ],
      "metadata": {
        "id": "dz-EQqne2A40"
      },
      "execution_count": null,
      "outputs": []
    },
    {
      "cell_type": "markdown",
      "source": [
        "##CNN Model"
      ],
      "metadata": {
        "id": "qV_icW3EXKNZ"
      }
    },
    {
      "cell_type": "markdown",
      "source": [
        "**Comments**\n",
        "\n",
        "The model is trained with Batches of size 32, and is composed by the following layers:\n",
        "\n",
        "- Conv2D with 8 filters and a kernel of 3,3 \n",
        "- ReLU\n",
        "- MaxPool2D with pool size 2,2 \n",
        "\n",
        "- Conv2D with 16 filters and a kernel of 3,3 \n",
        "- ReLU\n",
        "- MaxPool2D with pool size 2,2\n",
        "\n",
        "- Conv2D with 32 filters and a kernel of 3,3\n",
        "- ReLU\n",
        "- MaxPool2D with pool size 2,2\n",
        "\n",
        "- Flatten\n",
        "- Dense of 300 units with Sigmoid function\n",
        "- Dense of 21 units with Softmax function"
      ],
      "metadata": {
        "id": "dLAxgLYNXKNb"
      }
    },
    {
      "cell_type": "code",
      "source": [
        "model_cnn = tf.keras.Sequential()\n",
        "\n",
        "model_cnn.add(tf.keras.layers.Conv2D(input_shape=(256, 256, 3),\n",
        "                                 filters=8,\n",
        "                                 kernel_size=(3, 3),        \n",
        "                                 strides=(1, 1), \n",
        "                                 padding='same'))\n",
        "model_cnn.add(tf.keras.layers.ReLU()) \n",
        "model_cnn.add(tf.keras.layers.MaxPool2D(pool_size=(2, 2)))\n",
        "\n",
        "model_cnn.add(tf.keras.layers.Conv2D(filters=16,\n",
        "                                 kernel_size=(3, 3),\n",
        "                                 strides=(1, 1), \n",
        "                                 padding='same'))\n",
        "model_cnn.add(tf.keras.layers.ReLU())\n",
        "model_cnn.add(tf.keras.layers.MaxPool2D(pool_size=(2, 2)))\n",
        "\n",
        "model_cnn.add(tf.keras.layers.Conv2D(filters=32,\n",
        "                                 kernel_size=(3, 3),\n",
        "                                 strides=(1, 1), \n",
        "                                 padding='same'))\n",
        "model_cnn.add(tf.keras.layers.ReLU())\n",
        "model_cnn.add(tf.keras.layers.MaxPool2D(pool_size=(2, 2)))\n",
        "\n",
        "model_cnn.add(tf.keras.layers.Flatten())\n",
        "model_cnn.add(tf.keras.layers.Dense(units=300, activation=tf.keras.activations.sigmoid))\n",
        "model_cnn.add(tf.keras.layers.Dense(units=21, activation=tf.keras.activations.softmax))\n",
        "\n",
        "model_cnn.summary()"
      ],
      "metadata": {
        "colab": {
          "base_uri": "https://localhost:8080/"
        },
        "outputId": "1f2ad3b7-1030-4919-b1c9-45d430e972cf",
        "id": "9WhjPFOdXKNc"
      },
      "execution_count": null,
      "outputs": [
        {
          "output_type": "stream",
          "name": "stdout",
          "text": [
            "Model: \"sequential_4\"\n",
            "_________________________________________________________________\n",
            " Layer (type)                Output Shape              Param #   \n",
            "=================================================================\n",
            " conv2d_12 (Conv2D)          (None, 256, 256, 8)       224       \n",
            "                                                                 \n",
            " re_lu_12 (ReLU)             (None, 256, 256, 8)       0         \n",
            "                                                                 \n",
            " max_pooling2d_12 (MaxPoolin  (None, 128, 128, 8)      0         \n",
            " g2D)                                                            \n",
            "                                                                 \n",
            " conv2d_13 (Conv2D)          (None, 128, 128, 16)      1168      \n",
            "                                                                 \n",
            " re_lu_13 (ReLU)             (None, 128, 128, 16)      0         \n",
            "                                                                 \n",
            " max_pooling2d_13 (MaxPoolin  (None, 64, 64, 16)       0         \n",
            " g2D)                                                            \n",
            "                                                                 \n",
            " conv2d_14 (Conv2D)          (None, 64, 64, 32)        4640      \n",
            "                                                                 \n",
            " re_lu_14 (ReLU)             (None, 64, 64, 32)        0         \n",
            "                                                                 \n",
            " max_pooling2d_14 (MaxPoolin  (None, 32, 32, 32)       0         \n",
            " g2D)                                                            \n",
            "                                                                 \n",
            " flatten_4 (Flatten)         (None, 32768)             0         \n",
            "                                                                 \n",
            " dense_8 (Dense)             (None, 300)               9830700   \n",
            "                                                                 \n",
            " dense_9 (Dense)             (None, 21)                6321      \n",
            "                                                                 \n",
            "=================================================================\n",
            "Total params: 9,843,053\n",
            "Trainable params: 9,843,053\n",
            "Non-trainable params: 0\n",
            "_________________________________________________________________\n"
          ]
        }
      ]
    },
    {
      "cell_type": "code",
      "source": [
        "# Optimization params\n",
        "\n",
        "# Loss\n",
        "loss = tf.keras.losses.CategoricalCrossentropy()\n",
        "\n",
        "# learning rate\n",
        "lr = 1e-3\n",
        "optimizer = tf.keras.optimizers.Adam(learning_rate=lr)\n",
        "\n",
        "# Validation metrics\n",
        "metrics = ['accuracy']"
      ],
      "metadata": {
        "id": "4XgQaMTnXKNd"
      },
      "execution_count": null,
      "outputs": []
    },
    {
      "cell_type": "code",
      "source": [
        "# Compile Model\n",
        "model_cnn.compile(optimizer=optimizer, loss=loss, metrics=metrics)"
      ],
      "metadata": {
        "id": "t0zUjbW6XKNe"
      },
      "execution_count": null,
      "outputs": []
    },
    {
      "cell_type": "code",
      "source": [
        "import os\n",
        "from datetime import datetime\n",
        "\n",
        "# New callbacks (for names)\n",
        "exps_dir = os.path.join(dataset_dir, 'Mark1_experiments')\n",
        "if not os.path.exists(exps_dir):\n",
        "    os.makedirs(exps_dir)\n",
        "\n",
        "now = datetime.now().strftime('%b%d_%H-%M-%S')\n",
        "\n",
        "exp_name = 'CNN'\n",
        "\n",
        "exp_dir = os.path.join(exps_dir, exp_name + '_' + str(now))\n",
        "if not os.path.exists(exp_dir):\n",
        "    os.makedirs(exp_dir)\n",
        "    \n",
        "callbacks = []\n",
        "\n",
        "\n",
        "ckpt_dir = os.path.join(exp_dir, 'ckpts')\n",
        "if not os.path.exists(ckpt_dir):\n",
        "    os.makedirs(ckpt_dir)\n",
        "\n",
        "ckpt_callback = tf.keras.callbacks.ModelCheckpoint(filepath=os.path.join(ckpt_dir, 'checkpoint'), \n",
        "                                                  save_weights_only=True,  \n",
        "                                                  monitor='val_accuracy',\n",
        "                                                  mode='max',\n",
        "                                                  save_best_only=False)\n",
        "callbacks.append(ckpt_callback)\n",
        "\n",
        "# Visualize Learning on Tensorboard\n",
        "# ---------------------------------\n",
        "tb_dir = os.path.join(exp_dir, 'tb_logs')\n",
        "if not os.path.exists(tb_dir):\n",
        "    os.makedirs(tb_dir)\n",
        "    \n",
        "# By default shows losses and metrics for both training and validation\n",
        "tb_callback = tf.keras.callbacks.TensorBoard(log_dir=tb_dir,\n",
        "                                             profile_batch=0,\n",
        "                                             histogram_freq=1)  \n",
        "callbacks.append(tb_callback)\n",
        "\n",
        "# Early Stopping\n",
        "# --------------\n",
        "early_stop = True\n",
        "if early_stop:\n",
        "    es_callback = tf.keras.callbacks.EarlyStopping(monitor='val_loss', patience=10)\n",
        "    callbacks.append(es_callback)"
      ],
      "metadata": {
        "id": "3THaCVe-XKNe"
      },
      "execution_count": null,
      "outputs": []
    },
    {
      "cell_type": "code",
      "source": [
        "model_cnn.fit(x=train_dataset_augm,\n",
        "          epochs=100,  \n",
        "          steps_per_epoch=int(np.ceil(train_gen.samples / bs)),\n",
        "          validation_data=valid_dataset,\n",
        "          validation_steps=int(np.ceil(valid_gen.samples / bs)), \n",
        "          callbacks=callbacks)"
      ],
      "metadata": {
        "colab": {
          "base_uri": "https://localhost:8080/"
        },
        "outputId": "c7a38454-30b6-4a15-c9f0-7e1021d320c4",
        "id": "XhSen1IxXKNf"
      },
      "execution_count": null,
      "outputs": [
        {
          "output_type": "stream",
          "name": "stdout",
          "text": [
            "Epoch 1/100\n",
            "46/46 [==============================] - 256s 6s/step - loss: 3.0491 - accuracy: 0.1034 - val_loss: 2.7022 - val_accuracy: 0.1714\n",
            "Epoch 2/100\n",
            "46/46 [==============================] - 27s 587ms/step - loss: 2.6579 - accuracy: 0.1905 - val_loss: 2.5132 - val_accuracy: 0.2349\n",
            "Epoch 3/100\n",
            "46/46 [==============================] - 27s 595ms/step - loss: 2.3604 - accuracy: 0.2850 - val_loss: 2.1736 - val_accuracy: 0.2984\n",
            "Epoch 4/100\n",
            "46/46 [==============================] - 27s 594ms/step - loss: 2.1214 - accuracy: 0.3333 - val_loss: 2.2744 - val_accuracy: 0.3333\n",
            "Epoch 5/100\n",
            "46/46 [==============================] - 27s 579ms/step - loss: 1.9871 - accuracy: 0.3857 - val_loss: 1.8460 - val_accuracy: 0.4190\n",
            "Epoch 6/100\n",
            "46/46 [==============================] - 27s 584ms/step - loss: 1.7789 - accuracy: 0.4476 - val_loss: 1.8289 - val_accuracy: 0.3778\n",
            "Epoch 7/100\n",
            "46/46 [==============================] - 27s 589ms/step - loss: 1.6436 - accuracy: 0.4810 - val_loss: 1.5989 - val_accuracy: 0.4603\n",
            "Epoch 8/100\n",
            "46/46 [==============================] - 27s 585ms/step - loss: 1.5056 - accuracy: 0.5374 - val_loss: 1.3915 - val_accuracy: 0.5778\n",
            "Epoch 9/100\n",
            "46/46 [==============================] - 27s 597ms/step - loss: 1.4090 - accuracy: 0.5619 - val_loss: 1.4172 - val_accuracy: 0.5206\n",
            "Epoch 10/100\n",
            "46/46 [==============================] - 27s 589ms/step - loss: 1.3582 - accuracy: 0.5626 - val_loss: 1.2782 - val_accuracy: 0.5873\n",
            "Epoch 11/100\n",
            "46/46 [==============================] - 28s 618ms/step - loss: 1.2718 - accuracy: 0.6034 - val_loss: 1.2664 - val_accuracy: 0.6063\n",
            "Epoch 12/100\n",
            "46/46 [==============================] - 27s 595ms/step - loss: 1.1483 - accuracy: 0.6388 - val_loss: 1.2956 - val_accuracy: 0.5841\n",
            "Epoch 13/100\n",
            "46/46 [==============================] - 27s 584ms/step - loss: 1.0845 - accuracy: 0.6585 - val_loss: 1.0980 - val_accuracy: 0.6603\n",
            "Epoch 14/100\n",
            "46/46 [==============================] - 27s 584ms/step - loss: 0.9966 - accuracy: 0.6946 - val_loss: 1.0542 - val_accuracy: 0.6698\n",
            "Epoch 15/100\n",
            "46/46 [==============================] - 27s 586ms/step - loss: 0.9356 - accuracy: 0.7095 - val_loss: 1.0189 - val_accuracy: 0.6698\n",
            "Epoch 16/100\n",
            "46/46 [==============================] - 27s 595ms/step - loss: 0.9597 - accuracy: 0.7000 - val_loss: 1.0195 - val_accuracy: 0.6667\n",
            "Epoch 17/100\n",
            "46/46 [==============================] - 27s 597ms/step - loss: 0.8633 - accuracy: 0.7347 - val_loss: 0.8970 - val_accuracy: 0.7048\n",
            "Epoch 18/100\n",
            "46/46 [==============================] - 27s 585ms/step - loss: 0.8552 - accuracy: 0.7340 - val_loss: 1.3613 - val_accuracy: 0.5619\n",
            "Epoch 19/100\n",
            "46/46 [==============================] - 27s 585ms/step - loss: 0.8553 - accuracy: 0.7333 - val_loss: 0.8602 - val_accuracy: 0.7175\n",
            "Epoch 20/100\n",
            "46/46 [==============================] - 27s 590ms/step - loss: 0.7796 - accuracy: 0.7578 - val_loss: 0.8939 - val_accuracy: 0.6952\n",
            "Epoch 21/100\n",
            "46/46 [==============================] - 27s 587ms/step - loss: 0.7267 - accuracy: 0.7714 - val_loss: 1.0023 - val_accuracy: 0.6667\n",
            "Epoch 22/100\n",
            "46/46 [==============================] - 29s 638ms/step - loss: 0.7181 - accuracy: 0.7803 - val_loss: 0.8221 - val_accuracy: 0.7238\n",
            "Epoch 23/100\n",
            "46/46 [==============================] - 27s 581ms/step - loss: 0.6431 - accuracy: 0.8020 - val_loss: 0.8817 - val_accuracy: 0.7270\n",
            "Epoch 24/100\n",
            "46/46 [==============================] - 27s 581ms/step - loss: 0.6528 - accuracy: 0.8068 - val_loss: 0.8262 - val_accuracy: 0.7587\n",
            "Epoch 25/100\n",
            "46/46 [==============================] - 27s 592ms/step - loss: 0.6595 - accuracy: 0.7993 - val_loss: 0.7371 - val_accuracy: 0.7429\n",
            "Epoch 26/100\n",
            "46/46 [==============================] - 27s 579ms/step - loss: 0.5592 - accuracy: 0.8340 - val_loss: 0.7534 - val_accuracy: 0.7429\n",
            "Epoch 27/100\n",
            "46/46 [==============================] - 27s 582ms/step - loss: 0.5445 - accuracy: 0.8408 - val_loss: 0.7384 - val_accuracy: 0.7619\n",
            "Epoch 28/100\n",
            "46/46 [==============================] - 27s 582ms/step - loss: 0.5295 - accuracy: 0.8395 - val_loss: 0.7681 - val_accuracy: 0.7651\n",
            "Epoch 29/100\n",
            "46/46 [==============================] - 26s 577ms/step - loss: 0.4897 - accuracy: 0.8463 - val_loss: 0.8219 - val_accuracy: 0.7397\n",
            "Epoch 30/100\n",
            "46/46 [==============================] - 27s 590ms/step - loss: 0.5047 - accuracy: 0.8510 - val_loss: 0.7481 - val_accuracy: 0.7524\n",
            "Epoch 31/100\n",
            "46/46 [==============================] - 27s 581ms/step - loss: 0.5368 - accuracy: 0.8299 - val_loss: 0.7888 - val_accuracy: 0.7365\n",
            "Epoch 32/100\n",
            "46/46 [==============================] - 28s 607ms/step - loss: 0.5021 - accuracy: 0.8503 - val_loss: 0.7057 - val_accuracy: 0.7778\n",
            "Epoch 33/100\n",
            "46/46 [==============================] - 29s 623ms/step - loss: 0.4379 - accuracy: 0.8748 - val_loss: 0.7079 - val_accuracy: 0.7556\n",
            "Epoch 34/100\n",
            "46/46 [==============================] - 27s 580ms/step - loss: 0.3961 - accuracy: 0.8884 - val_loss: 0.6907 - val_accuracy: 0.7746\n",
            "Epoch 35/100\n",
            "46/46 [==============================] - 27s 581ms/step - loss: 0.4048 - accuracy: 0.8830 - val_loss: 0.7013 - val_accuracy: 0.7683\n",
            "Epoch 36/100\n",
            "46/46 [==============================] - 27s 587ms/step - loss: 0.3942 - accuracy: 0.8918 - val_loss: 0.6437 - val_accuracy: 0.8000\n",
            "Epoch 37/100\n",
            "46/46 [==============================] - 27s 579ms/step - loss: 0.3858 - accuracy: 0.8898 - val_loss: 0.6987 - val_accuracy: 0.7841\n",
            "Epoch 38/100\n",
            "46/46 [==============================] - 27s 593ms/step - loss: 0.3991 - accuracy: 0.8850 - val_loss: 0.7591 - val_accuracy: 0.7651\n",
            "Epoch 39/100\n",
            "46/46 [==============================] - 27s 582ms/step - loss: 0.3586 - accuracy: 0.8966 - val_loss: 0.6505 - val_accuracy: 0.7841\n",
            "Epoch 40/100\n",
            "46/46 [==============================] - 27s 590ms/step - loss: 0.3529 - accuracy: 0.8966 - val_loss: 0.6471 - val_accuracy: 0.8000\n",
            "Epoch 41/100\n",
            "46/46 [==============================] - 27s 593ms/step - loss: 0.3039 - accuracy: 0.9136 - val_loss: 0.6636 - val_accuracy: 0.8000\n",
            "Epoch 42/100\n",
            "46/46 [==============================] - 27s 579ms/step - loss: 0.3040 - accuracy: 0.9177 - val_loss: 0.6601 - val_accuracy: 0.7778\n",
            "Epoch 43/100\n",
            "46/46 [==============================] - 27s 586ms/step - loss: 0.3156 - accuracy: 0.9129 - val_loss: 0.6588 - val_accuracy: 0.7905\n",
            "Epoch 44/100\n",
            "46/46 [==============================] - 28s 604ms/step - loss: 0.3451 - accuracy: 0.8966 - val_loss: 0.6214 - val_accuracy: 0.7937\n",
            "Epoch 45/100\n",
            "46/46 [==============================] - 27s 594ms/step - loss: 0.3027 - accuracy: 0.9122 - val_loss: 0.7073 - val_accuracy: 0.7619\n",
            "Epoch 46/100\n",
            "46/46 [==============================] - 27s 592ms/step - loss: 0.3195 - accuracy: 0.9129 - val_loss: 0.6514 - val_accuracy: 0.7937\n",
            "Epoch 47/100\n",
            "46/46 [==============================] - 27s 580ms/step - loss: 0.2571 - accuracy: 0.9320 - val_loss: 0.6077 - val_accuracy: 0.7968\n",
            "Epoch 48/100\n",
            "46/46 [==============================] - 27s 586ms/step - loss: 0.2827 - accuracy: 0.9204 - val_loss: 0.6737 - val_accuracy: 0.7937\n",
            "Epoch 49/100\n",
            "46/46 [==============================] - 27s 578ms/step - loss: 0.2708 - accuracy: 0.9238 - val_loss: 0.6325 - val_accuracy: 0.7968\n",
            "Epoch 50/100\n",
            "46/46 [==============================] - 26s 576ms/step - loss: 0.2219 - accuracy: 0.9449 - val_loss: 0.6195 - val_accuracy: 0.7905\n",
            "Epoch 51/100\n",
            "46/46 [==============================] - 27s 586ms/step - loss: 0.2139 - accuracy: 0.9483 - val_loss: 0.6493 - val_accuracy: 0.7841\n",
            "Epoch 52/100\n",
            "46/46 [==============================] - 27s 581ms/step - loss: 0.2353 - accuracy: 0.9367 - val_loss: 0.5938 - val_accuracy: 0.8000\n",
            "Epoch 53/100\n",
            "46/46 [==============================] - 27s 580ms/step - loss: 0.1951 - accuracy: 0.9517 - val_loss: 0.6583 - val_accuracy: 0.7937\n",
            "Epoch 54/100\n",
            "46/46 [==============================] - 27s 582ms/step - loss: 0.2082 - accuracy: 0.9429 - val_loss: 0.7790 - val_accuracy: 0.7460\n",
            "Epoch 55/100\n",
            "46/46 [==============================] - 28s 601ms/step - loss: 0.2346 - accuracy: 0.9367 - val_loss: 0.6533 - val_accuracy: 0.7778\n",
            "Epoch 56/100\n",
            "46/46 [==============================] - 28s 601ms/step - loss: 0.2314 - accuracy: 0.9388 - val_loss: 0.5821 - val_accuracy: 0.8286\n",
            "Epoch 57/100\n",
            "46/46 [==============================] - 27s 586ms/step - loss: 0.2003 - accuracy: 0.9531 - val_loss: 0.5680 - val_accuracy: 0.8349\n",
            "Epoch 58/100\n",
            "46/46 [==============================] - 27s 580ms/step - loss: 0.1968 - accuracy: 0.9544 - val_loss: 0.5937 - val_accuracy: 0.8254\n",
            "Epoch 59/100\n",
            "46/46 [==============================] - 27s 592ms/step - loss: 0.2456 - accuracy: 0.9306 - val_loss: 0.6578 - val_accuracy: 0.7841\n",
            "Epoch 60/100\n",
            "46/46 [==============================] - 27s 588ms/step - loss: 0.2007 - accuracy: 0.9442 - val_loss: 0.5919 - val_accuracy: 0.8063\n",
            "Epoch 61/100\n",
            "46/46 [==============================] - 27s 597ms/step - loss: 0.2142 - accuracy: 0.9429 - val_loss: 0.6052 - val_accuracy: 0.8222\n",
            "Epoch 62/100\n",
            "46/46 [==============================] - 27s 585ms/step - loss: 0.1677 - accuracy: 0.9633 - val_loss: 0.5675 - val_accuracy: 0.8095\n",
            "Epoch 63/100\n",
            "46/46 [==============================] - 27s 582ms/step - loss: 0.1703 - accuracy: 0.9626 - val_loss: 0.6008 - val_accuracy: 0.8190\n",
            "Epoch 64/100\n",
            "46/46 [==============================] - 27s 589ms/step - loss: 0.1633 - accuracy: 0.9565 - val_loss: 0.6444 - val_accuracy: 0.7968\n",
            "Epoch 65/100\n",
            "46/46 [==============================] - 27s 585ms/step - loss: 0.1715 - accuracy: 0.9544 - val_loss: 0.5943 - val_accuracy: 0.8032\n",
            "Epoch 66/100\n",
            "46/46 [==============================] - 29s 623ms/step - loss: 0.1538 - accuracy: 0.9646 - val_loss: 0.6239 - val_accuracy: 0.8254\n",
            "Epoch 67/100\n",
            "46/46 [==============================] - 27s 583ms/step - loss: 0.1659 - accuracy: 0.9551 - val_loss: 0.6509 - val_accuracy: 0.8095\n",
            "Epoch 68/100\n",
            "46/46 [==============================] - 28s 606ms/step - loss: 0.1601 - accuracy: 0.9605 - val_loss: 0.6126 - val_accuracy: 0.8063\n",
            "Epoch 69/100\n",
            "46/46 [==============================] - 27s 598ms/step - loss: 0.1625 - accuracy: 0.9585 - val_loss: 0.5732 - val_accuracy: 0.8159\n",
            "Epoch 70/100\n",
            "46/46 [==============================] - 27s 593ms/step - loss: 0.1301 - accuracy: 0.9687 - val_loss: 0.5709 - val_accuracy: 0.8127\n",
            "Epoch 71/100\n",
            "46/46 [==============================] - 27s 599ms/step - loss: 0.1664 - accuracy: 0.9551 - val_loss: 0.5716 - val_accuracy: 0.8095\n",
            "Epoch 72/100\n",
            "46/46 [==============================] - 27s 595ms/step - loss: 0.1241 - accuracy: 0.9755 - val_loss: 0.5400 - val_accuracy: 0.8286\n",
            "Epoch 73/100\n",
            "46/46 [==============================] - 27s 588ms/step - loss: 0.1237 - accuracy: 0.9721 - val_loss: 0.6391 - val_accuracy: 0.7841\n",
            "Epoch 74/100\n",
            "46/46 [==============================] - 27s 594ms/step - loss: 0.1507 - accuracy: 0.9592 - val_loss: 0.5916 - val_accuracy: 0.8190\n",
            "Epoch 75/100\n",
            "46/46 [==============================] - 27s 589ms/step - loss: 0.1607 - accuracy: 0.9633 - val_loss: 0.6001 - val_accuracy: 0.7968\n",
            "Epoch 76/100\n",
            "46/46 [==============================] - 27s 592ms/step - loss: 0.1298 - accuracy: 0.9714 - val_loss: 0.5309 - val_accuracy: 0.8254\n",
            "Epoch 77/100\n",
            "46/46 [==============================] - 28s 615ms/step - loss: 0.0970 - accuracy: 0.9864 - val_loss: 0.6250 - val_accuracy: 0.8032\n",
            "Epoch 78/100\n",
            "46/46 [==============================] - 27s 594ms/step - loss: 0.1709 - accuracy: 0.9503 - val_loss: 0.5956 - val_accuracy: 0.8254\n",
            "Epoch 79/100\n",
            "46/46 [==============================] - 28s 618ms/step - loss: 0.1144 - accuracy: 0.9721 - val_loss: 0.5786 - val_accuracy: 0.8032\n",
            "Epoch 80/100\n",
            "46/46 [==============================] - 27s 583ms/step - loss: 0.1166 - accuracy: 0.9714 - val_loss: 0.5768 - val_accuracy: 0.8190\n",
            "Epoch 81/100\n",
            "46/46 [==============================] - 27s 589ms/step - loss: 0.1245 - accuracy: 0.9735 - val_loss: 0.5902 - val_accuracy: 0.8032\n",
            "Epoch 82/100\n",
            "46/46 [==============================] - 27s 585ms/step - loss: 0.1104 - accuracy: 0.9796 - val_loss: 0.5564 - val_accuracy: 0.8127\n",
            "Epoch 83/100\n",
            "46/46 [==============================] - 27s 579ms/step - loss: 0.0962 - accuracy: 0.9796 - val_loss: 0.5661 - val_accuracy: 0.8159\n",
            "Epoch 84/100\n",
            "46/46 [==============================] - 28s 602ms/step - loss: 0.1247 - accuracy: 0.9667 - val_loss: 0.7819 - val_accuracy: 0.7397\n",
            "Epoch 85/100\n",
            "46/46 [==============================] - 27s 589ms/step - loss: 0.1228 - accuracy: 0.9735 - val_loss: 0.5724 - val_accuracy: 0.8317\n",
            "Epoch 86/100\n",
            "46/46 [==============================] - 42s 920ms/step - loss: 0.0913 - accuracy: 0.9796 - val_loss: 0.5918 - val_accuracy: 0.8159\n"
          ]
        },
        {
          "output_type": "execute_result",
          "data": {
            "text/plain": [
              "<keras.callbacks.History at 0x7f39be1bd350>"
            ]
          },
          "metadata": {},
          "execution_count": 67
        }
      ]
    },
    {
      "cell_type": "markdown",
      "source": [
        "We get as resulta the following:\n",
        "\n",
        "*loss: 0.0913 - accuracy: 0.9796 - val_loss: 0.5918 - val_accuracy: 0.8159*\n"
      ],
      "metadata": {
        "id": "OgXfH09tXKNg"
      }
    },
    {
      "cell_type": "markdown",
      "source": [
        "# **Transfer Learning** \n",
        "\n",
        "- **InceptionV3:** *loss: 0.5634 - accuracy: 0.9687 - val_loss: 1.8383 - val_accuracy: 0.9302*"
      ],
      "metadata": {
        "id": "78PnhFwXLZtS"
      }
    },
    {
      "cell_type": "markdown",
      "source": [
        "## InceptionV3\n",
        "\n",
        "InceptionV3 was created by Google and it was called GoogLeNet.\n",
        "At only 7 million parameters, it was much smaller than the then prevalent models like VGG and AlexNet\n",
        "\n",
        "Augmented Data\n",
        "\n",
        "**Results:** *loss: 0.5634 - accuracy: 0.9687 - val_loss: 1.8383 - val_accuracy: 0.9302*"
      ],
      "metadata": {
        "id": "b-5lqKUu64dk"
      }
    },
    {
      "cell_type": "code",
      "source": [
        "from tensorflow.keras.applications.inception_v3 import InceptionV3\n",
        "from tensorflow.keras import layers, models\n",
        "\n",
        "InceptionV3_model = InceptionV3(input_shape = (256, 256, 3), include_top = False, weights = 'imagenet')"
      ],
      "metadata": {
        "id": "ra7HwtCD7Wg9"
      },
      "execution_count": null,
      "outputs": []
    },
    {
      "cell_type": "code",
      "source": [
        "for layer in InceptionV3_model.layers:\n",
        "  layer.trainable = False"
      ],
      "metadata": {
        "id": "NgpstqAe7e6u"
      },
      "execution_count": null,
      "outputs": []
    },
    {
      "cell_type": "code",
      "source": [
        "# add new classifier layers\n",
        "flatten_layer = layers.Flatten()\n",
        "prediction_layer = layers.Dense(21, activation='softmax')\n",
        "\n",
        "# define new model\n",
        "InceptionV3_model_prediction = models.Sequential([\n",
        "              InceptionV3_model,\n",
        "              flatten_layer,\n",
        "              prediction_layer\n",
        "])\n",
        "\n",
        "# summarize\n",
        "InceptionV3_model_prediction.summary()"
      ],
      "metadata": {
        "colab": {
          "base_uri": "https://localhost:8080/"
        },
        "id": "2VwKYCki7l96",
        "outputId": "0f5ce222-8847-45eb-ea9a-49637fa56ae1"
      },
      "execution_count": null,
      "outputs": [
        {
          "output_type": "stream",
          "name": "stdout",
          "text": [
            "Model: \"sequential_1\"\n",
            "_________________________________________________________________\n",
            " Layer (type)                Output Shape              Param #   \n",
            "=================================================================\n",
            " inception_v3 (Functional)   (None, 6, 6, 2048)        21802784  \n",
            "                                                                 \n",
            " flatten_1 (Flatten)         (None, 73728)             0         \n",
            "                                                                 \n",
            " dense_1 (Dense)             (None, 21)                1548309   \n",
            "                                                                 \n",
            "=================================================================\n",
            "Total params: 23,351,093\n",
            "Trainable params: 1,548,309\n",
            "Non-trainable params: 21,802,784\n",
            "_________________________________________________________________\n"
          ]
        }
      ]
    },
    {
      "cell_type": "code",
      "source": [
        "InceptionV3_model_prediction.compile(\n",
        "    optimizer='adam',\n",
        "    loss='categorical_crossentropy',\n",
        "    metrics=['accuracy'],\n",
        ")"
      ],
      "metadata": {
        "id": "e4r5vjKt7_U9"
      },
      "execution_count": null,
      "outputs": []
    },
    {
      "cell_type": "code",
      "source": [
        "from tensorflow.keras.callbacks import EarlyStopping\n",
        "\n",
        "es = EarlyStopping(monitor='val_accuracy', mode='max', patience=10,  restore_best_weights=True)"
      ],
      "metadata": {
        "id": "_A_WY5BQ7_U_"
      },
      "execution_count": null,
      "outputs": []
    },
    {
      "cell_type": "code",
      "source": [
        "InceptionV3_model_prediction.fit(x=train_dataset_augm,\n",
        "          epochs=100,\n",
        "          steps_per_epoch=int(np.ceil(train_gen.samples / bs)),\n",
        "          validation_data=valid_dataset,\n",
        "          validation_steps=int(np.ceil(valid_gen.samples / bs)), \n",
        "          callbacks=[es])"
      ],
      "metadata": {
        "colab": {
          "base_uri": "https://localhost:8080/"
        },
        "outputId": "ceda75e0-28a6-48cd-fa18-90f67ef93c96",
        "id": "ME6qZpPt7_VA"
      },
      "execution_count": null,
      "outputs": [
        {
          "output_type": "stream",
          "name": "stdout",
          "text": [
            "Epoch 1/100\n",
            "46/46 [==============================] - 722s 16s/step - loss: 5.7869 - accuracy: 0.6361 - val_loss: 2.3675 - val_accuracy: 0.7778\n",
            "Epoch 2/100\n",
            "46/46 [==============================] - 26s 566ms/step - loss: 1.5553 - accuracy: 0.8340 - val_loss: 1.5356 - val_accuracy: 0.8413\n",
            "Epoch 3/100\n",
            "46/46 [==============================] - 24s 522ms/step - loss: 1.1998 - accuracy: 0.8782 - val_loss: 1.9095 - val_accuracy: 0.8286\n",
            "Epoch 4/100\n",
            "46/46 [==============================] - 24s 521ms/step - loss: 1.2314 - accuracy: 0.8762 - val_loss: 2.1955 - val_accuracy: 0.8063\n",
            "Epoch 5/100\n",
            "46/46 [==============================] - 24s 525ms/step - loss: 1.2919 - accuracy: 0.8871 - val_loss: 1.9725 - val_accuracy: 0.8698\n",
            "Epoch 6/100\n",
            "46/46 [==============================] - 24s 522ms/step - loss: 1.8199 - accuracy: 0.8762 - val_loss: 1.7725 - val_accuracy: 0.8889\n",
            "Epoch 7/100\n",
            "46/46 [==============================] - 24s 525ms/step - loss: 1.3683 - accuracy: 0.8932 - val_loss: 1.2956 - val_accuracy: 0.8984\n",
            "Epoch 8/100\n",
            "46/46 [==============================] - 25s 550ms/step - loss: 1.1331 - accuracy: 0.9177 - val_loss: 1.2370 - val_accuracy: 0.8921\n",
            "Epoch 9/100\n",
            "46/46 [==============================] - 25s 538ms/step - loss: 0.8759 - accuracy: 0.9184 - val_loss: 1.3056 - val_accuracy: 0.8889\n",
            "Epoch 10/100\n",
            "46/46 [==============================] - 24s 523ms/step - loss: 0.9229 - accuracy: 0.9245 - val_loss: 1.6021 - val_accuracy: 0.8857\n",
            "Epoch 11/100\n",
            "46/46 [==============================] - 24s 524ms/step - loss: 0.6179 - accuracy: 0.9415 - val_loss: 1.6252 - val_accuracy: 0.9048\n",
            "Epoch 12/100\n",
            "46/46 [==============================] - 24s 520ms/step - loss: 0.9083 - accuracy: 0.9340 - val_loss: 2.4039 - val_accuracy: 0.8730\n",
            "Epoch 13/100\n",
            "46/46 [==============================] - 24s 522ms/step - loss: 1.0236 - accuracy: 0.9231 - val_loss: 2.0930 - val_accuracy: 0.8921\n",
            "Epoch 14/100\n",
            "46/46 [==============================] - 25s 550ms/step - loss: 1.2421 - accuracy: 0.9224 - val_loss: 2.3745 - val_accuracy: 0.8762\n",
            "Epoch 15/100\n",
            "46/46 [==============================] - 24s 522ms/step - loss: 0.8400 - accuracy: 0.9381 - val_loss: 2.1291 - val_accuracy: 0.9016\n",
            "Epoch 16/100\n",
            "46/46 [==============================] - 24s 521ms/step - loss: 0.6813 - accuracy: 0.9517 - val_loss: 1.3643 - val_accuracy: 0.9079\n",
            "Epoch 17/100\n",
            "46/46 [==============================] - 24s 524ms/step - loss: 0.4689 - accuracy: 0.9571 - val_loss: 1.7345 - val_accuracy: 0.9048\n",
            "Epoch 18/100\n",
            "46/46 [==============================] - 24s 523ms/step - loss: 0.6005 - accuracy: 0.9531 - val_loss: 1.0329 - val_accuracy: 0.9270\n",
            "Epoch 19/100\n",
            "46/46 [==============================] - 24s 523ms/step - loss: 0.4898 - accuracy: 0.9646 - val_loss: 1.5495 - val_accuracy: 0.9175\n",
            "Epoch 20/100\n",
            "46/46 [==============================] - 24s 517ms/step - loss: 0.6748 - accuracy: 0.9544 - val_loss: 1.6608 - val_accuracy: 0.8825\n",
            "Epoch 21/100\n",
            "46/46 [==============================] - 24s 523ms/step - loss: 0.9668 - accuracy: 0.9456 - val_loss: 1.2452 - val_accuracy: 0.9365\n",
            "Epoch 22/100\n",
            "46/46 [==============================] - 25s 534ms/step - loss: 0.6072 - accuracy: 0.9599 - val_loss: 2.8190 - val_accuracy: 0.8889\n",
            "Epoch 23/100\n",
            "46/46 [==============================] - 24s 519ms/step - loss: 0.6306 - accuracy: 0.9653 - val_loss: 1.3558 - val_accuracy: 0.9302\n",
            "Epoch 24/100\n",
            "46/46 [==============================] - 28s 605ms/step - loss: 0.5231 - accuracy: 0.9680 - val_loss: 1.5706 - val_accuracy: 0.9048\n",
            "Epoch 25/100\n",
            "46/46 [==============================] - 25s 549ms/step - loss: 0.7614 - accuracy: 0.9585 - val_loss: 2.0408 - val_accuracy: 0.9111\n",
            "Epoch 26/100\n",
            "46/46 [==============================] - 24s 514ms/step - loss: 0.7183 - accuracy: 0.9585 - val_loss: 1.9183 - val_accuracy: 0.9206\n",
            "Epoch 27/100\n",
            "46/46 [==============================] - 24s 517ms/step - loss: 0.7220 - accuracy: 0.9585 - val_loss: 1.9933 - val_accuracy: 0.9079\n",
            "Epoch 28/100\n",
            "46/46 [==============================] - 24s 525ms/step - loss: 0.7463 - accuracy: 0.9599 - val_loss: 2.9614 - val_accuracy: 0.8762\n",
            "Epoch 29/100\n",
            "46/46 [==============================] - 24s 524ms/step - loss: 0.4708 - accuracy: 0.9646 - val_loss: 3.5761 - val_accuracy: 0.8794\n",
            "Epoch 30/100\n",
            "46/46 [==============================] - 24s 518ms/step - loss: 0.5427 - accuracy: 0.9592 - val_loss: 1.6560 - val_accuracy: 0.9206\n",
            "Epoch 31/100\n",
            "46/46 [==============================] - 24s 514ms/step - loss: 0.5634 - accuracy: 0.9687 - val_loss: 1.8383 - val_accuracy: 0.9302\n"
          ]
        },
        {
          "output_type": "execute_result",
          "data": {
            "text/plain": [
              "<keras.callbacks.History at 0x7f663a9363d0>"
            ]
          },
          "metadata": {},
          "execution_count": 25
        }
      ]
    }
  ]
}